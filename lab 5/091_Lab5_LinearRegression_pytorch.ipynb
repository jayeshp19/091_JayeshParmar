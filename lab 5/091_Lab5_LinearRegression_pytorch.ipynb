{
  "nbformat": 4,
  "nbformat_minor": 0,
  "metadata": {
    "colab": {
      "name": "091_Lab5_LinearRegression_pytorch.ipynb",
      "provenance": [],
      "collapsed_sections": [],
      "include_colab_link": true
    },
    "kernelspec": {
      "name": "python3",
      "display_name": "Python 3"
    },
    "language_info": {
      "name": "python"
    }
  },
  "cells": [
    {
      "cell_type": "markdown",
      "metadata": {
        "id": "view-in-github",
        "colab_type": "text"
      },
      "source": [
        "<a href=\"https://colab.research.google.com/github/jayeshp19/091_JayeshParmar/blob/main/lab%205/091_Lab5_LinearRegression_pytorch.ipynb\" target=\"_parent\"><img src=\"https://colab.research.google.com/assets/colab-badge.svg\" alt=\"Open In Colab\"/></a>"
      ]
    },
    {
      "cell_type": "code",
      "metadata": {
        "id": "to3DBuH3K-XH"
      },
      "source": [
        "# Import Numpy & PyTorch\n",
        "import numpy as np\n",
        "import torch"
      ],
      "execution_count": 1,
      "outputs": []
    },
    {
      "cell_type": "markdown",
      "metadata": {
        "_uuid": "ecc6e79cdfb6a8ca882895ccc895b61b960b0a04",
        "id": "i1HSrBDb-7t9"
      },
      "source": [
        "## Linear Regression Model using PyTorch built-ins\n",
        "\n",
        "Let's re-implement the same model using some built-in functions and classes from PyTorch.\n",
        "\n",
        "And now using two different targets: Apples and Oranges"
      ]
    },
    {
      "cell_type": "code",
      "metadata": {
        "id": "25Y8IxZJLUx7"
      },
      "source": [
        "import torch.nn as nn\n",
        "\n",
        "# Input (temp, rainfall, humidity)\n",
        "inputs = np.array([[73, 67, 43], [91, 88, 64], [87, 134, 58], [102, 43, 37], [69, 96, 70], [73, 67, 43], [91, 88, 64], [87, 134, 58], [102, 43, 37], [69, 96, 70], [73, 67, 43], [91, 88, 64], [87, 134, 58], [102, 43, 37], [69, 96, 70]], dtype='float32')\n",
        "# Targets (apples, oranges)\n",
        "targets = np.array([[56, 70], [81, 101], [119, 133], [22, 37], [103, 119], \n",
        "                    [56, 70], [81, 101], [119, 133], [22, 37], [103, 119], \n",
        "                    [56, 70], [81, 101], [119, 133], [22, 37], [103, 119]], dtype='float32')"
      ],
      "execution_count": 2,
      "outputs": []
    },
    {
      "cell_type": "code",
      "metadata": {
        "id": "jrO6WOxVLiwr"
      },
      "source": [
        "inputs =  torch.from_numpy(inputs)\n",
        "targets = torch.from_numpy(targets)"
      ],
      "execution_count": 4,
      "outputs": []
    },
    {
      "cell_type": "markdown",
      "metadata": {
        "_uuid": "a0665466eb5401f40a816b323a34450b2c052c41",
        "id": "O6JT5Ng6-7uj"
      },
      "source": [
        "### Dataset and DataLoader\n",
        "\n",
        "We'll create a `TensorDataset`, which allows access to rows from `inputs` and `targets` as tuples. We'll also create a DataLoader, to split the data into batches while training. It also provides other utilities like shuffling and sampling."
      ]
    },
    {
      "cell_type": "code",
      "metadata": {
        "colab": {
          "base_uri": "https://localhost:8080/"
        },
        "id": "Ca0hmSN7LqtK",
        "outputId": "545fd558-5b8e-4caa-92ad-3b8d315a3239"
      },
      "source": [
        "#define dataset\n",
        "from torch.utils.data import TensorDataset, DataLoader\n",
        "dataset = TensorDataset(inputs, targets)\n",
        "dataset[0:4]"
      ],
      "execution_count": 5,
      "outputs": [
        {
          "output_type": "execute_result",
          "data": {
            "text/plain": [
              "(tensor([[ 73.,  67.,  43.],\n",
              "         [ 91.,  88.,  64.],\n",
              "         [ 87., 134.,  58.],\n",
              "         [102.,  43.,  37.]]), tensor([[ 56.,  70.],\n",
              "         [ 81., 101.],\n",
              "         [119., 133.],\n",
              "         [ 22.,  37.]]))"
            ]
          },
          "metadata": {},
          "execution_count": 5
        }
      ]
    },
    {
      "cell_type": "code",
      "metadata": {
        "colab": {
          "base_uri": "https://localhost:8080/"
        },
        "id": "jkahPiHNMDSZ",
        "outputId": "d3491dd0-be7a-4acd-ea55-4f4f62724d36"
      },
      "source": [
        "# Define data loader\n",
        "batch_size = 6\n",
        "dl = DataLoader(dataset, batch_size, shuffle=True)\n",
        "next(iter(dl))"
      ],
      "execution_count": 6,
      "outputs": [
        {
          "output_type": "execute_result",
          "data": {
            "text/plain": [
              "[tensor([[ 91.,  88.,  64.],\n",
              "         [102.,  43.,  37.],\n",
              "         [ 87., 134.,  58.],\n",
              "         [ 91.,  88.,  64.],\n",
              "         [ 73.,  67.,  43.],\n",
              "         [ 91.,  88.,  64.]]), tensor([[ 81., 101.],\n",
              "         [ 22.,  37.],\n",
              "         [119., 133.],\n",
              "         [ 81., 101.],\n",
              "         [ 56.,  70.],\n",
              "         [ 81., 101.]])]"
            ]
          },
          "metadata": {},
          "execution_count": 6
        }
      ]
    },
    {
      "cell_type": "markdown",
      "metadata": {
        "_uuid": "276a262e1b9e3a048bcd32989013f9c501c59037",
        "id": "Dq8gUbVx-7vK"
      },
      "source": [
        "### nn.Linear\n",
        "Instead of initializing the weights & biases manually, we can define the model using `nn.Linear`."
      ]
    },
    {
      "cell_type": "code",
      "metadata": {
        "colab": {
          "base_uri": "https://localhost:8080/"
        },
        "id": "1svjGWcJMrqy",
        "outputId": "ba05c083-c220-46c6-efc8-52c0b5e87602"
      },
      "source": [
        "# Define model\n",
        "model = nn.Linear(3, 2)\n",
        "print(model.weight, end=\"\\n---------\\n\")\n",
        "print(model.bias)"
      ],
      "execution_count": 7,
      "outputs": [
        {
          "output_type": "stream",
          "name": "stdout",
          "text": [
            "Parameter containing:\n",
            "tensor([[ 0.0056, -0.2313, -0.3802],\n",
            "        [-0.4760,  0.5693, -0.0567]], requires_grad=True)\n",
            "---------\n",
            "Parameter containing:\n",
            "tensor([-0.2429, -0.3510], requires_grad=True)\n"
          ]
        }
      ]
    },
    {
      "cell_type": "markdown",
      "metadata": {
        "_uuid": "b3a4a8c499a4680f2533329712de034671dd1cdd",
        "id": "rku14lz3-7vX"
      },
      "source": [
        "### Optimizer\n",
        "Instead of manually manipulating the weights & biases using gradients, we can use the optimizer `optim.SGD`."
      ]
    },
    {
      "cell_type": "code",
      "metadata": {
        "id": "BbJn4UpDM7e4"
      },
      "source": [
        "# Define optimizer\n",
        "opt = torch.optim.SGD(model.parameters(), lr=1e-5)"
      ],
      "execution_count": 8,
      "outputs": []
    },
    {
      "cell_type": "markdown",
      "metadata": {
        "_uuid": "28cbe62be55010bd11b31d819cff38da5a772b18",
        "id": "V2ktEA-C-7vl"
      },
      "source": [
        "### Loss Function\n",
        "Instead of defining a loss function manually, we can use the built-in loss function `mse_loss`."
      ]
    },
    {
      "cell_type": "code",
      "metadata": {
        "colab": {
          "base_uri": "https://localhost:8080/"
        },
        "id": "ISKa7DuHUBNw",
        "outputId": "d7f0e106-6abb-4594-8d08-47104e4d77ab"
      },
      "source": [
        "# Import nn.functional\n",
        "import torch.nn.functional as F\n",
        "\n",
        "# Define loss function\n",
        "loss_fn = F.mse_loss\n",
        "\n",
        "loss = loss_fn(model(inputs) , targets)\n",
        "print(loss)"
      ],
      "execution_count": 9,
      "outputs": [
        {
          "output_type": "stream",
          "name": "stdout",
          "text": [
            "tensor(11717.6904, grad_fn=<MseLossBackward>)\n"
          ]
        }
      ]
    },
    {
      "cell_type": "markdown",
      "metadata": {
        "_uuid": "e833614a69ff18c554a3d89f643ae2f11e0260f6",
        "id": "9jbPdkiO-7wM"
      },
      "source": [
        "### Train the model\n",
        "\n",
        "We are ready to train the model now. We can define a utility function `fit` which trains the model for a given number of epochs."
      ]
    },
    {
      "cell_type": "code",
      "metadata": {
        "id": "1rnK5tb0UIp5"
      },
      "source": [
        "# Define a utility function to train the model\n",
        "def fit(num_epochs, model, loss_fn, opt):\n",
        "    for epoch in range(num_epochs):\n",
        "        for xb,yb in dl:\n",
        "            # Generate predictions\n",
        "            pred = model(xb)\n",
        "            loss = loss_fn(pred, yb)\n",
        "            # Perform gradient descent\n",
        "            loss.backward()\n",
        "            opt.step()\n",
        "            opt.zero_grad()\n",
        "    print('Training loss: ', loss_fn(model(inputs), targets))"
      ],
      "execution_count": 10,
      "outputs": []
    },
    {
      "cell_type": "code",
      "metadata": {
        "colab": {
          "base_uri": "https://localhost:8080/"
        },
        "id": "abwZ6XJPUTs5",
        "outputId": "dd972cee-2f9b-4546-a080-2d3e38c36b52"
      },
      "source": [
        "# Train the model for 100 epochs\n",
        "fit(100 , model , loss_fn, opt)\n",
        "\n",
        "# Generate predictions\n",
        "preds = model(inputs)\n",
        "print('\\n', preds)"
      ],
      "execution_count": 11,
      "outputs": [
        {
          "output_type": "stream",
          "name": "stdout",
          "text": [
            "Training loss:  tensor(36.2967, grad_fn=<MseLossBackward>)\n",
            "\n",
            " tensor([[ 58.8645,  71.2279],\n",
            "        [ 79.8088,  97.3941],\n",
            "        [121.8724, 141.4291],\n",
            "        [ 30.4716,  40.3167],\n",
            "        [ 92.1881, 111.2628],\n",
            "        [ 58.8645,  71.2279],\n",
            "        [ 79.8088,  97.3941],\n",
            "        [121.8724, 141.4291],\n",
            "        [ 30.4716,  40.3167],\n",
            "        [ 92.1881, 111.2628],\n",
            "        [ 58.8645,  71.2279],\n",
            "        [ 79.8088,  97.3941],\n",
            "        [121.8724, 141.4291],\n",
            "        [ 30.4716,  40.3167],\n",
            "        [ 92.1881, 111.2628]], grad_fn=<AddmmBackward>)\n"
          ]
        }
      ]
    },
    {
      "cell_type": "code",
      "metadata": {
        "colab": {
          "base_uri": "https://localhost:8080/"
        },
        "id": "F9hMMQReUlgy",
        "outputId": "6bab86c8-057a-4a2f-f793-822ad91cb2e2"
      },
      "source": [
        "# Compare with targets\n",
        "print(targets)"
      ],
      "execution_count": 12,
      "outputs": [
        {
          "output_type": "stream",
          "name": "stdout",
          "text": [
            "tensor([[ 56.,  70.],\n",
            "        [ 81., 101.],\n",
            "        [119., 133.],\n",
            "        [ 22.,  37.],\n",
            "        [103., 119.],\n",
            "        [ 56.,  70.],\n",
            "        [ 81., 101.],\n",
            "        [119., 133.],\n",
            "        [ 22.,  37.],\n",
            "        [103., 119.],\n",
            "        [ 56.,  70.],\n",
            "        [ 81., 101.],\n",
            "        [119., 133.],\n",
            "        [ 22.,  37.],\n",
            "        [103., 119.]])\n"
          ]
        }
      ]
    },
    {
      "cell_type": "markdown",
      "metadata": {
        "_uuid": "2448d9832722f4f2813f8bd80b91daefd901dc2e",
        "id": "b9nvUidI-7xD"
      },
      "source": [
        "Now we can define the model, optimizer and loss function exactly as before."
      ]
    },
    {
      "cell_type": "code",
      "metadata": {
        "colab": {
          "base_uri": "https://localhost:8080/"
        },
        "id": "dq4lNK2pUybn",
        "outputId": "21b7d123-d01a-448e-8eba-ec31ce680cd4"
      },
      "source": [
        "fit(100 , model , loss_fn, opt)"
      ],
      "execution_count": 13,
      "outputs": [
        {
          "output_type": "stream",
          "name": "stdout",
          "text": [
            "Training loss:  tensor(16.4458, grad_fn=<MseLossBackward>)\n"
          ]
        }
      ]
    },
    {
      "cell_type": "markdown",
      "metadata": {
        "id": "EkKmtFnyVHw-"
      },
      "source": [
        "\n",
        "\n",
        "---\n",
        "\n"
      ]
    },
    {
      "cell_type": "code",
      "metadata": {
        "id": "5DOWHyKIVICW"
      },
      "source": [
        "# Input (temp, rainfall, humidity)\n",
        "inputs = np.array([[73, 67, 43], [91, 88, 64], [87, 134, 58], [102, 43, 37], [69, 96, 70], [73, 67, 43], [91, 88, 64], [87, 134, 58], [102, 43, 37], [69, 96, 70], [73, 67, 43], [91, 88, 64], [87, 134, 58], [102, 43, 37], [69, 96, 70]], dtype='float32')\n",
        "# Targets (apples, oranges)\n",
        "targets = np.array([[56, 70], [81, 101], [119, 133], [22, 37], [103, 119], \n",
        "                    [56, 70], [81, 101], [119, 133], [22, 37], [103, 119], \n",
        "                    [56, 70], [81, 101], [119, 133], [22, 37], [103, 119]], dtype='float32')\n",
        "\n",
        "x_shape = inputs.shape"
      ],
      "execution_count": 14,
      "outputs": []
    },
    {
      "cell_type": "code",
      "metadata": {
        "colab": {
          "base_uri": "https://localhost:8080/"
        },
        "id": "T7v8DEEpVP-v",
        "outputId": "aec61928-73c1-4807-f5df-46b806a98740"
      },
      "source": [
        "# weights and biases\n",
        "weights = np.random.rand(2, 3)\n",
        "biases = np.random.rand(15, 2)\n",
        "print(\"Weights  :  \", weights, sep='\\n')\n",
        "print(\"Biases  :  \", biases, sep=\"\\n\")"
      ],
      "execution_count": 16,
      "outputs": [
        {
          "output_type": "stream",
          "name": "stdout",
          "text": [
            "Weights  :  \n",
            "[[0.20805956 0.80702138 0.44581819]\n",
            " [0.86189939 0.27290176 0.04676992]]\n",
            "Biases  :  \n",
            "[[0.22338687 0.45368995]\n",
            " [0.70319238 0.37074948]\n",
            " [0.25395953 0.51286297]\n",
            " [0.51354631 0.74721028]\n",
            " [0.65408727 0.6692042 ]\n",
            " [0.40498802 0.35532053]\n",
            " [0.1755577  0.39681258]\n",
            " [0.97617022 0.6227848 ]\n",
            " [0.80254743 0.44199942]\n",
            " [0.31878694 0.13683874]\n",
            " [0.95588233 0.893274  ]\n",
            " [0.50855023 0.80824432]\n",
            " [0.88687697 0.09236308]\n",
            " [0.86797664 0.40629238]\n",
            " [0.26338241 0.88387743]]\n"
          ]
        }
      ]
    },
    {
      "cell_type": "code",
      "metadata": {
        "id": "gTPnGnLIVhiD"
      },
      "source": [
        "# Define the model\n",
        "def model(x):\n",
        "    return x @ np.transpose(weights) + biases"
      ],
      "execution_count": 17,
      "outputs": []
    },
    {
      "cell_type": "code",
      "metadata": {
        "colab": {
          "base_uri": "https://localhost:8080/"
        },
        "id": "7Q_qivdiVjCs",
        "outputId": "d3b5c250-75fd-4a85-a3e1-72f9ce412b8e"
      },
      "source": [
        "# Generate predictions\n",
        "pred = model(inputs)\n",
        "\n",
        "# Compare with targets\n",
        "print(\"Predictions : \", pred, sep=\"\\n\")\n",
        "print(\"\\nTargets : \", targets, sep=\"\\n\")"
      ],
      "execution_count": 18,
      "outputs": [
        {
          "output_type": "stream",
          "name": "stdout",
          "text": [
            "Predictions : \n",
            "[[ 88.65234905  83.66786999]\n",
            " [119.18685751 105.81222384]\n",
            " [152.3534606  114.7796011 ]\n",
            " [ 72.93281351 102.12621098]\n",
            " [123.69152226  89.61272552]\n",
            " [ 88.8339502   83.56950057]\n",
            " [118.65922283 105.83828694]\n",
            " [153.07567129 114.88952293]\n",
            " [ 73.22181463 101.82100012]\n",
            " [123.35622193  89.08036006]\n",
            " [ 89.3848445   84.10745403]\n",
            " [118.99221536 106.24971868]\n",
            " [152.98637804 114.35910121]\n",
            " [ 73.28724384 101.78529309]\n",
            " [123.30081739  89.82739875]]\n",
            "\n",
            "Targets : \n",
            "[[ 56.  70.]\n",
            " [ 81. 101.]\n",
            " [119. 133.]\n",
            " [ 22.  37.]\n",
            " [103. 119.]\n",
            " [ 56.  70.]\n",
            " [ 81. 101.]\n",
            " [119. 133.]\n",
            " [ 22.  37.]\n",
            " [103. 119.]\n",
            " [ 56.  70.]\n",
            " [ 81. 101.]\n",
            " [119. 133.]\n",
            " [ 22.  37.]\n",
            " [103. 119.]]\n"
          ]
        }
      ]
    },
    {
      "cell_type": "code",
      "metadata": {
        "id": "f-idm847VjJL"
      },
      "source": [
        "# MSE loss\n",
        "def mse(t1, t2):\n",
        "    diff = t1 - t2\n",
        "    return np.sum(diff * diff) / len(diff)"
      ],
      "execution_count": 19,
      "outputs": []
    },
    {
      "cell_type": "code",
      "metadata": {
        "colab": {
          "base_uri": "https://localhost:8080/"
        },
        "id": "0i6PAgVwXMfB",
        "outputId": "4e475653-1562-4c20-dec3-2928909d7678"
      },
      "source": [
        "# Compute loss\n",
        "loss = mse(pred, targets)\n",
        "print(loss)"
      ],
      "execution_count": 20,
      "outputs": [
        {
          "output_type": "stream",
          "name": "stdout",
          "text": [
            "2467.45854809461\n"
          ]
        }
      ]
    },
    {
      "cell_type": "code",
      "metadata": {
        "colab": {
          "base_uri": "https://localhost:8080/"
        },
        "id": "RvipYKyuXQ9a",
        "outputId": "5d216fed-d052-44ec-ffbf-d4bdaea1da0a"
      },
      "source": [
        "# compute gradients\n",
        "biases_grad = (pred - targets) * 2/x_shape[0]\n",
        "weights_grad = (np.matmul(np.transpose((pred - targets)), inputs)) * 2/x_shape[0]\n",
        "\n",
        "print(\"Weights gradient  :  \",weights_grad, sep=\"\\n\")\n",
        "print(\"\\nBiases gradient  :  \",biases_grad, sep=\"\\n\")"
      ],
      "execution_count": 21,
      "outputs": [
        {
          "output_type": "stream",
          "name": "stdout",
          "text": [
            "Weights gradient  :  \n",
            "[[6171.2199277  5695.90365204 3652.12776743]\n",
            " [1779.89033566 -454.05736043   73.94876859]]\n",
            "\n",
            "Biases gradient  :  \n",
            "[[ 4.35364654  1.82238267]\n",
            " [ 5.091581    0.64162985]\n",
            " [ 4.44712808 -2.42938652]\n",
            " [ 6.7910418   8.6834948 ]\n",
            " [ 2.75886963 -3.91830326]\n",
            " [ 4.37786003  1.80926674]\n",
            " [ 5.02122971  0.64510493]\n",
            " [ 4.54342284 -2.41473028]\n",
            " [ 6.82957528  8.64280002]\n",
            " [ 2.71416292 -3.98928533]\n",
            " [ 4.4513126   1.88099387]\n",
            " [ 5.06562871  0.69996249]\n",
            " [ 4.53151707 -2.48545317]\n",
            " [ 6.83829918  8.63803908]\n",
            " [ 2.70677565 -3.88968017]]\n"
          ]
        }
      ]
    },
    {
      "cell_type": "code",
      "metadata": {
        "id": "3R6nMSqMXhsM"
      },
      "source": [
        "# Adjust weights\n",
        "weights -= weights_grad * 1e-4\n",
        "biases -= biases_grad * 1e-4"
      ],
      "execution_count": 22,
      "outputs": []
    },
    {
      "cell_type": "code",
      "metadata": {
        "colab": {
          "base_uri": "https://localhost:8080/"
        },
        "id": "EJrQfEu_Xk7f",
        "outputId": "d09f62a7-c738-408a-e52f-75a3a9872150"
      },
      "source": [
        "print(\"Weights  :  \", weights, sep='\\n')\n",
        "print(\"\\nBiases  :  \", biases, sep=\"\\n\")"
      ],
      "execution_count": 23,
      "outputs": [
        {
          "output_type": "stream",
          "name": "stdout",
          "text": [
            "Weights  :  \n",
            "[[-0.40906243  0.23743101  0.08060541]\n",
            " [ 0.68391036  0.31830749  0.03937504]]\n",
            "\n",
            "Biases  :  \n",
            "[[0.22295151 0.45350772]\n",
            " [0.70268322 0.37068531]\n",
            " [0.25351482 0.51310591]\n",
            " [0.51286721 0.74634193]\n",
            " [0.65381139 0.66959603]\n",
            " [0.40455024 0.35513961]\n",
            " [0.17505558 0.39674807]\n",
            " [0.97571588 0.62302627]\n",
            " [0.80186447 0.44113514]\n",
            " [0.31851553 0.13723766]\n",
            " [0.95543719 0.8930859 ]\n",
            " [0.50804367 0.80817432]\n",
            " [0.88642382 0.09261162]\n",
            " [0.86729281 0.40542858]\n",
            " [0.26311173 0.8842664 ]]\n"
          ]
        }
      ]
    },
    {
      "cell_type": "code",
      "metadata": {
        "colab": {
          "base_uri": "https://localhost:8080/"
        },
        "id": "gsvha4VOXpA7",
        "outputId": "2008e27c-6740-4185-98d9-1622db8e2741"
      },
      "source": [
        "# Calculate loss\n",
        "pred = model(inputs)\n",
        "loss = mse(pred, targets)\n",
        "print(loss)"
      ],
      "execution_count": 24,
      "outputs": [
        {
          "output_type": "stream",
          "name": "stdout",
          "text": [
            "8830.766481636861\n"
          ]
        }
      ]
    },
    {
      "cell_type": "code",
      "metadata": {
        "id": "RACbAzE6Xx1T"
      },
      "source": [
        "# repeating same for 200 times\n",
        "for i in range(200):\n",
        "    pred = model(inputs)\n",
        "    loss = mse(pred, targets)\n",
        "    \n",
        "    biases_grad = ((((inputs@np.transpose(weights)) + biases) - targets)) * 2/x_shape[0]\n",
        "    weights_grad = (np.matmul(np.transpose((((inputs@np.transpose(weights)) + biases) - targets)), inputs)) * 2/x_shape[0]\n",
        "\n",
        "    weights -= weights_grad * 1e-4\n",
        "    biases -= biases_grad * 1e-4"
      ],
      "execution_count": 25,
      "outputs": []
    },
    {
      "cell_type": "code",
      "metadata": {
        "colab": {
          "base_uri": "https://localhost:8080/"
        },
        "id": "_XOCb8gJX8sJ",
        "outputId": "7cf79993-49f2-424b-823d-a817d6e593d7"
      },
      "source": [
        "# Calculate loss\n",
        "pred = model(inputs)\n",
        "loss = mse(pred, targets)\n",
        "print(loss)"
      ],
      "execution_count": 26,
      "outputs": [
        {
          "output_type": "stream",
          "name": "stdout",
          "text": [
            "4.537189338362155e+168\n"
          ]
        }
      ]
    },
    {
      "cell_type": "code",
      "metadata": {
        "colab": {
          "base_uri": "https://localhost:8080/"
        },
        "id": "Ik_wm1cuYAvD",
        "outputId": "beadc13e-d3c3-4b90-a7de-6c729726142b"
      },
      "source": [
        "# Print predictions\n",
        "print(pred)"
      ],
      "execution_count": 27,
      "outputs": [
        {
          "output_type": "stream",
          "name": "stdout",
          "text": [
            "[[-1.70755956e+84 -1.55671271e+83]\n",
            " [-2.24381183e+84 -2.04559213e+83]\n",
            " [-2.65167352e+84 -2.41742307e+83]\n",
            " [-1.70008645e+84 -1.54989978e+83]\n",
            " [-2.15100796e+84 -1.96098661e+83]\n",
            " [-1.70755956e+84 -1.55671271e+83]\n",
            " [-2.24381183e+84 -2.04559213e+83]\n",
            " [-2.65167352e+84 -2.41742307e+83]\n",
            " [-1.70008645e+84 -1.54989978e+83]\n",
            " [-2.15100796e+84 -1.96098661e+83]\n",
            " [-1.70755956e+84 -1.55671271e+83]\n",
            " [-2.24381183e+84 -2.04559213e+83]\n",
            " [-2.65167352e+84 -2.41742307e+83]\n",
            " [-1.70008645e+84 -1.54989978e+83]\n",
            " [-2.15100796e+84 -1.96098661e+83]]\n"
          ]
        }
      ]
    },
    {
      "cell_type": "code",
      "metadata": {
        "colab": {
          "base_uri": "https://localhost:8080/"
        },
        "id": "4HxbqS5XYC_T",
        "outputId": "ea4bee3b-ab60-4ea6-d958-6e553872f785"
      },
      "source": [
        "# Print targets\n",
        "print(targets)"
      ],
      "execution_count": 28,
      "outputs": [
        {
          "output_type": "stream",
          "name": "stdout",
          "text": [
            "[[ 56.  70.]\n",
            " [ 81. 101.]\n",
            " [119. 133.]\n",
            " [ 22.  37.]\n",
            " [103. 119.]\n",
            " [ 56.  70.]\n",
            " [ 81. 101.]\n",
            " [119. 133.]\n",
            " [ 22.  37.]\n",
            " [103. 119.]\n",
            " [ 56.  70.]\n",
            " [ 81. 101.]\n",
            " [119. 133.]\n",
            " [ 22.  37.]\n",
            " [103. 119.]]\n"
          ]
        }
      ]
    }
  ]
}