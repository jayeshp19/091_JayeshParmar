{
  "nbformat": 4,
  "nbformat_minor": 0,
  "metadata": {
    "colab": {
      "name": "091_Lab1_LinearAlgebraWithNumpy.ipynb",
      "provenance": [],
      "collapsed_sections": [],
      "include_colab_link": true
    },
    "kernelspec": {
      "name": "python3",
      "display_name": "Python 3"
    },
    "language_info": {
      "name": "python"
    }
  },
  "cells": [
    {
      "cell_type": "markdown",
      "metadata": {
        "id": "view-in-github",
        "colab_type": "text"
      },
      "source": [
        "<a href=\"https://colab.research.google.com/github/jayeshp19/091_JayeshParmar/blob/main/lab%201/091_Lab1_LinearAlgebraWithNumpy.ipynb\" target=\"_parent\"><img src=\"https://colab.research.google.com/assets/colab-badge.svg\" alt=\"Open In Colab\"/></a>"
      ]
    },
    {
      "cell_type": "code",
      "metadata": {
        "colab": {
          "base_uri": "https://localhost:8080/"
        },
        "id": "qWsQ1psErA7_",
        "outputId": "bd1178db-74d1-4b35-896d-3de133f6df4c"
      },
      "source": [
        "from google.colab import drive\n",
        "drive.mount('/content/drive')"
      ],
      "execution_count": 1,
      "outputs": [
        {
          "output_type": "stream",
          "name": "stdout",
          "text": [
            "Mounted at /content/drive\n"
          ]
        }
      ]
    },
    {
      "cell_type": "code",
      "metadata": {
        "colab": {
          "base_uri": "https://localhost:8080/"
        },
        "id": "eZzmjIupuzI5",
        "outputId": "09d6e8f9-98f7-46dd-d63e-44743427b176"
      },
      "source": [
        "import numpy as np\n",
        "import pandas as pd\n",
        "\n",
        "matrix3x2 = np.array([[1, 2], [3, 4], [5, 6]])\n",
        "matrix2x3 = np.array([[1, 2, 4], [4, 5, 6]])\n",
        "\n",
        "print('3 x 2 matrix : \\n', matrix3x2)\n",
        "print('\\n 2 x 3 matrix : \\n', matrix2x3)"
      ],
      "execution_count": 2,
      "outputs": [
        {
          "output_type": "stream",
          "name": "stdout",
          "text": [
            "3 x 2 matrix : \n",
            " [[1 2]\n",
            " [3 4]\n",
            " [5 6]]\n",
            "\n",
            " 2 x 3 matrix : \n",
            " [[1 2 4]\n",
            " [4 5 6]]\n"
          ]
        }
      ]
    },
    {
      "cell_type": "code",
      "metadata": {
        "colab": {
          "base_uri": "https://localhost:8080/"
        },
        "id": "y_vFGpTCwqgl",
        "outputId": "8254f7f0-9054-444e-d2ca-e62abbe88f97"
      },
      "source": [
        "random_matrix = np.random.rand(3, 4)\n",
        "print(random_matrix)"
      ],
      "execution_count": 3,
      "outputs": [
        {
          "output_type": "stream",
          "name": "stdout",
          "text": [
            "[[0.05703702 0.86878079 0.99118375 0.15344584]\n",
            " [0.50962206 0.27654872 0.44876969 0.50923342]\n",
            " [0.49079674 0.95729996 0.9805655  0.49481551]]\n"
          ]
        }
      ]
    },
    {
      "cell_type": "code",
      "metadata": {
        "colab": {
          "base_uri": "https://localhost:8080/"
        },
        "id": "aXc-DdSc1FIW",
        "outputId": "77727252-7ec5-4a38-af60-d705afa83e7b"
      },
      "source": [
        "# matrix multiplication\n",
        "matmul = np.dot(matrix3x2, matrix2x3)\n",
        "print(matmul)"
      ],
      "execution_count": 4,
      "outputs": [
        {
          "output_type": "stream",
          "name": "stdout",
          "text": [
            "[[ 9 12 16]\n",
            " [19 26 36]\n",
            " [29 40 56]]\n"
          ]
        }
      ]
    },
    {
      "cell_type": "code",
      "metadata": {
        "colab": {
          "base_uri": "https://localhost:8080/"
        },
        "id": "vS720pKU1jwS",
        "outputId": "45e5c6e6-acb7-4c76-fca2-f49779a7f44b"
      },
      "source": [
        "# elemet wise matrix multiplication\n",
        "result = [[0 for x in range(len(matrix3x2))] for y in range(len(matrix2x3[0]))]\n",
        "\n",
        "for i in range(len(matrix3x2)): \n",
        "  for j in range(len(matrix2x3[0])): \n",
        "    for k in range(len(matrix2x3)): \n",
        "      result[i][j] += matrix3x2[i][k] * matrix2x3[k][j]\n",
        " \n",
        "print('Element wise multiplication : \\n', result)"
      ],
      "execution_count": 5,
      "outputs": [
        {
          "output_type": "stream",
          "name": "stdout",
          "text": [
            "Element wise multiplication : \n",
            " [[9, 12, 16], [19, 26, 36], [29, 40, 56]]\n"
          ]
        }
      ]
    },
    {
      "cell_type": "code",
      "metadata": {
        "colab": {
          "base_uri": "https://localhost:8080/"
        },
        "id": "1qUUvFfC6Rgn",
        "outputId": "54a32454-17bb-4035-d25c-15e9a26eae38"
      },
      "source": [
        "mean = np.mean(matrix3x2)\n",
        "print(mean)"
      ],
      "execution_count": 6,
      "outputs": [
        {
          "output_type": "stream",
          "name": "stdout",
          "text": [
            "3.5\n"
          ]
        }
      ]
    },
    {
      "cell_type": "code",
      "metadata": {
        "id": "i_dClDLp8DxX"
      },
      "source": [
        "data = pd.read_csv('/content/drive/MyDrive/ML files/mtcars.csv')"
      ],
      "execution_count": 8,
      "outputs": []
    },
    {
      "cell_type": "code",
      "metadata": {
        "colab": {
          "base_uri": "https://localhost:8080/"
        },
        "id": "HZ2zXizbAsgP",
        "outputId": "4a86f8cf-ca86-401d-8e9c-1fa6641d8508"
      },
      "source": [
        "del data['model']\n",
        "\n",
        "meancenter = data.apply(lambda e: e - e.mean())\n",
        "print(meancenter.head())"
      ],
      "execution_count": 9,
      "outputs": [
        {
          "output_type": "stream",
          "name": "stdout",
          "text": [
            "        mpg     cyl        disp       hp  ...      vs       am    gear    carb\n",
            "0  0.909375 -0.1875  -70.721875 -36.6875  ... -0.4375  0.59375  0.3125  1.1875\n",
            "1  0.909375 -0.1875  -70.721875 -36.6875  ... -0.4375  0.59375  0.3125  1.1875\n",
            "2  2.709375 -2.1875 -122.721875 -53.6875  ...  0.5625  0.59375  0.3125 -1.8125\n",
            "3  1.309375 -0.1875   27.278125 -36.6875  ...  0.5625 -0.40625 -0.6875 -1.8125\n",
            "4 -1.390625  1.8125  129.278125  28.3125  ... -0.4375 -0.40625 -0.6875 -0.8125\n",
            "\n",
            "[5 rows x 11 columns]\n"
          ]
        }
      ]
    }
  ]
}